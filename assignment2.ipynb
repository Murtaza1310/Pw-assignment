{
 "cells": [
  {
   "attachments": {},
   "cell_type": "markdown",
   "metadata": {},
   "source": [
    "Q1. How do you comment code in Python? What are the different types of comments?\n",
    "\n"
   ]
  },
  {
   "attachments": {},
   "cell_type": "markdown",
   "metadata": {},
   "source": [
    "* In python, we can comment code by using the “#” symbol at the beginning of each line of the comment."
   ]
  },
  {
   "attachments": {},
   "cell_type": "markdown",
   "metadata": {},
   "source": [
    "The different type of comments are:\n",
    "\n",
    "1. Single-line comments\n",
    "2. Multi-ine comments"
   ]
  },
  {
   "attachments": {},
   "cell_type": "markdown",
   "metadata": {},
   "source": [
    "Q2. What are variables in Python? How do you declare and assign values to variables?"
   ]
  },
  {
   "attachments": {},
   "cell_type": "markdown",
   "metadata": {},
   "source": [
    "* Variables are the reserved memory locations to store values. In Python, the Python interpreter allocates RAM to the variable based on its data type. Thus, one can store integers, decimals, or characters in Python variables, and data types are generally assigned to them later.\n",
    "\n",
    "* In Python, we need not declare a variable with some specific data type. Python has no command for declaring a variable. A variable is created when some value is assigned to it. The value assigned to a variable determines the data type of that variable.\n",
    "\n",
    "* Thus, declaring a variable in Python is very simple.\n",
    "\n",
    "1.Just name the variable.\n",
    "\n",
    "2.Assign the required value to it.\n",
    "\n",
    "3.The data type of the variable will be automatically determined from the value assigned, we need not define it explicitly.\n",
    "\n",
    "* For example :"
   ]
  },
  {
   "cell_type": "code",
   "execution_count": 25,
   "metadata": {},
   "outputs": [
    {
     "name": "stdout",
     "output_type": "stream",
     "text": [
      "Murtaza <class 'str'>\n"
     ]
    }
   ],
   "source": [
    "# To declare an string variable :\n",
    "# Name the variable (a)\n",
    "# Assign an integer value to t (5)\n",
    "a = \"Murtaza\"\n",
    "print(a,type(a))"
   ]
  },
  {
   "attachments": {},
   "cell_type": "markdown",
   "metadata": {},
   "source": [
    "Q3. How do you convert one data type to another in Python?"
   ]
  },
  {
   "attachments": {},
   "cell_type": "markdown",
   "metadata": {},
   "source": [
    "* In Python, we can convert one data type to another by Type Casting. Type Casting is the method to convert the Python variable datatype into a certain data type in order to the operation required to be performed by users.\n",
    "\n",
    "* Mainly Type Casting can be done with these data type functions:\n",
    "\n",
    "1. Int(): Python Int() function take float or string as an argument and returns int type object.\n",
    "2. float(): Python float() function take int or string as an argument and return float type object.\n",
    "3. str(): Python str() function takes float or int as an argument and returns string type object."
   ]
  },
  {
   "attachments": {},
   "cell_type": "markdown",
   "metadata": {},
   "source": [
    "Q4. How do you write and execute a Python script from the command line?\n",
    "\n"
   ]
  },
  {
   "attachments": {},
   "cell_type": "markdown",
   "metadata": {},
   "source": [
    "* To run Python scripts with the python command, we need to open a command-line and type in the word python followed by the path to our script, just like this:"
   ]
  },
  {
   "attachments": {},
   "cell_type": "markdown",
   "metadata": {},
   "source": [
    "python main.py\n",
    "\n",
    "Hello World!"
   ]
  },
  {
   "attachments": {},
   "cell_type": "markdown",
   "metadata": {},
   "source": [
    "* If everything works okay, after we press Enter, we’ll see the phrase Hello World! on our screen.\n",
    "* In this way we can write and execute a Python script from the command line."
   ]
  },
  {
   "attachments": {},
   "cell_type": "markdown",
   "metadata": {},
   "source": [
    "Q5. Given a list my_list = [1, 2, 3, 4, 5], write the code to slice the list and obtain the sub-list [2, 3].\n",
    "\n"
   ]
  },
  {
   "cell_type": "code",
   "execution_count": 27,
   "metadata": {},
   "outputs": [
    {
     "name": "stdout",
     "output_type": "stream",
     "text": [
      "The sub-list is [2, 3]\n"
     ]
    }
   ],
   "source": [
    "# The given list is:\n",
    "my_list = [1,2,3,4,5]\n",
    "\n",
    "# Slicing the list to obtain the required lis:\n",
    "my_list [1:3]\n",
    "\n",
    "# Displaying the sub-list :\n",
    "print (\"The sub-list is\",my_list [1:3])"
   ]
  },
  {
   "attachments": {},
   "cell_type": "markdown",
   "metadata": {},
   "source": [
    "Q6. What is a complex number in mathematics, and how is it represented in Python?\n",
    "\n"
   ]
  },
  {
   "attachments": {},
   "cell_type": "markdown",
   "metadata": {},
   "source": [
    "* In Mathematics, a complex number is a number of the form a + bi, where a and b are real numbers, and i = √-1. For a complex number z = a + ib,'a' is called the real part which is denoted by Re(z), and 'b' is called the imaginary part Im(z). Also, ib is called an imaginary number.\n"
   ]
  },
  {
   "cell_type": "code",
   "execution_count": 28,
   "metadata": {},
   "outputs": [
    {
     "name": "stdout",
     "output_type": "stream",
     "text": [
      "(8+9j) <class 'complex'>\n"
     ]
    }
   ],
   "source": [
    "# Representation of a complex number in python :\n",
    "# In python, the imaginare part in a complex number is represented by j\n",
    "a = 8 + 9j\n",
    "print(a,type(a))"
   ]
  },
  {
   "attachments": {},
   "cell_type": "markdown",
   "metadata": {},
   "source": [
    "Q7. What is the correct way to declare a variable named age and assign the value 25 to it?\n",
    "\n"
   ]
  },
  {
   "cell_type": "code",
   "execution_count": 29,
   "metadata": {},
   "outputs": [
    {
     "name": "stdout",
     "output_type": "stream",
     "text": [
      "25\n"
     ]
    }
   ],
   "source": [
    "# The correct way to declare a variable and assigned it a value :\n",
    "age = 25\n",
    "print (age)"
   ]
  },
  {
   "attachments": {},
   "cell_type": "markdown",
   "metadata": {},
   "source": [
    "Q8. Declare a variable named price and assign the value 9.99 to it. What data type does this variable belong to?\n",
    "\n"
   ]
  },
  {
   "cell_type": "code",
   "execution_count": 30,
   "metadata": {},
   "outputs": [
    {
     "name": "stdout",
     "output_type": "stream",
     "text": [
      "9.99\n",
      "<class 'float'>\n"
     ]
    }
   ],
   "source": [
    "# Declaring a valriable named price and assign it the value 9.99 :\n",
    "price = 9.99\n",
    "print(price)\n",
    "\n",
    "# Displaying the data type of price variable :\n",
    "print(type(price))"
   ]
  },
  {
   "attachments": {},
   "cell_type": "markdown",
   "metadata": {},
   "source": [
    "Q9. Create a variable named name and assign your full name to it as a string. How would you print the value of this variable?\n",
    "\n"
   ]
  },
  {
   "cell_type": "code",
   "execution_count": 31,
   "metadata": {},
   "outputs": [
    {
     "name": "stdout",
     "output_type": "stream",
     "text": [
      "Murtaza Kuwakhedawala\n"
     ]
    }
   ],
   "source": [
    "# Declairing a variable\n",
    "name = 'Murtaza Kuwakhedawala'\n",
    "\n",
    "# print the value of variable name:\n",
    "print(name)"
   ]
  },
  {
   "attachments": {},
   "cell_type": "markdown",
   "metadata": {},
   "source": [
    "Q10. Given the string \"Hello, World!\", extract the substring \"World\".\n",
    "\n"
   ]
  },
  {
   "cell_type": "code",
   "execution_count": 34,
   "metadata": {},
   "outputs": [
    {
     "data": {
      "text/plain": [
       "'World'"
      ]
     },
     "execution_count": 34,
     "metadata": {},
     "output_type": "execute_result"
    }
   ],
   "source": [
    "# Creatig a variable (var) and assigning it the given string :\n",
    "var = 'Hello, World!'\n",
    "\n",
    "# Extracting the value 'World' :\n",
    "var [7:12]"
   ]
  },
  {
   "attachments": {},
   "cell_type": "markdown",
   "metadata": {},
   "source": [
    "Q11. Create a variable named \"is_student\" and assign it a boolean value indicating whether you are currently a student or not.\n",
    "\n"
   ]
  },
  {
   "cell_type": "code",
   "execution_count": 35,
   "metadata": {},
   "outputs": [
    {
     "name": "stdout",
     "output_type": "stream",
     "text": [
      "True\n"
     ]
    }
   ],
   "source": [
    "# Creating a variable and assigning it a boolean value indicating whether i am currently a student or not.\n",
    "is_student = True\n",
    "print (is_student)"
   ]
  },
  {
   "cell_type": "code",
   "execution_count": null,
   "metadata": {},
   "outputs": [],
   "source": []
  }
 ],
 "metadata": {
  "kernelspec": {
   "display_name": "Python 3",
   "language": "python",
   "name": "python3"
  },
  "language_info": {
   "codemirror_mode": {
    "name": "ipython",
    "version": 3
   },
   "file_extension": ".py",
   "mimetype": "text/x-python",
   "name": "python",
   "nbconvert_exporter": "python",
   "pygments_lexer": "ipython3",
   "version": "3.11.3"
  },
  "orig_nbformat": 4
 },
 "nbformat": 4,
 "nbformat_minor": 2
}
