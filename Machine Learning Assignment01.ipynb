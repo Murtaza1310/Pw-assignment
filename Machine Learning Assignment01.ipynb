{
 "cells": [
  {
   "cell_type": "markdown",
   "metadata": {},
   "source": [
    "## Q1: Explain the following with an example:"
   ]
  },
  {
   "cell_type": "markdown",
   "metadata": {},
   "source": [
    "1. Artificial Intelligence\n",
    "2. Machine Learning\n",
    "3. Deep Learning"
   ]
  },
  {
   "cell_type": "markdown",
   "metadata": {},
   "source": [
    "1. Artificial Intelligence - Artificial Intelligence (AI) is a branch of computer science that focuses on creating intelligent machines capable of performing tasks that typically require human intelligence. AI systems are designed to simulate human cognitive abilities, such as learning, reasoning, problem-solving, perception, and language understanding.\n",
    "\n",
    "For example, AI can be used in natural language processing (NLP) to analyze and understand human language. It enables machines to interpret and respond to text or speech inputs from users. AI-powered virtual assistants like Siri, Alexa, and Google Assistant utilize NLP techniques to understand user queries and provide relevant information or perform tasks."
   ]
  },
  {
   "cell_type": "markdown",
   "metadata": {},
   "source": [
    "2. MAchine Learning - **Machine Learning (ML)** is a subdomain of **Artificial Intelligence (AI)** that focuses on developing systems capable of learning and improving performance based on the data they ingest¹. It is an AI technique that teaches computers to learn from experience without being explicitly programmed³. Machine learning algorithms use computational methods to \"learn\" information directly from data without relying on a predetermined equation as a model³.\n",
    "\n",
    "Machine learning is widely used in various fields and industries, including computer vision, natural language processing, robotics, finance, healthcare, and more. It has applications in tasks such as image recognition, speech recognition, recommendation systems, fraud detection, and autonomous vehicles¹⁴.\n",
    "\n",
    "For example, in natural language processing (NLP), machine learning algorithms analyze and understand human language. Virtual assistants like Siri, Alexa, and Google Assistant utilize NLP techniques to interpret and respond to user queries¹.\n"
   ]
  },
  {
   "cell_type": "markdown",
   "metadata": {},
   "source": [
    "3. Deep Learning - Deep Learning is a subfield of Machine Learning (ML) that focuses on training artificial neural networks with multiple layers to learn and make predictions. It is inspired by the structure and function of the human brain, specifically the interconnectedness of neurons.\n",
    "\n",
    "Deep learning algorithms are designed to automatically learn representations of data through a hierarchy of multiple layers. Each layer extracts increasingly complex features from the input data, enabling the network to learn intricate patterns and relationships. This hierarchical approach allows deep learning models to excel in tasks such as image recognition, natural language processing, speech recognition, and more.\n",
    "\n",
    "For example, in computer vision, deep learning models can be trained to recognize objects, faces, or even detect anomalies in medical images. In natural language processing, deep learning models can be used for sentiment analysis, machine translation, and text generation."
   ]
  },
  {
   "cell_type": "markdown",
   "metadata": {},
   "source": [
    "## Q2: What is supervised learning? List some examples of supervised learning."
   ]
  },
  {
   "cell_type": "markdown",
   "metadata": {},
   "source": [
    "* Supervised learning is a ype of Machine Learning which include input feature and output feature. In supervised learning we got 1 or more than one input features(This is also called independent feature) and based on input feature we get output feature either the utput is in category or depend on the output feature.Supervise learning is also of 2 types:\n",
    "\n",
    "1. Supervise M.L (Classification) - Here we got input feature and we got output feature. Output feature is in category like pass or fail , yes or no etc . \n",
    "\n",
    "For example :Lets make a data set of student playing hrs and stude hrs and based on this output feature pass or fail"
   ]
  },
  {
   "cell_type": "code",
   "execution_count": 3,
   "metadata": {},
   "outputs": [
    {
     "data": {
      "text/html": [
       "<div>\n",
       "<style scoped>\n",
       "    .dataframe tbody tr th:only-of-type {\n",
       "        vertical-align: middle;\n",
       "    }\n",
       "\n",
       "    .dataframe tbody tr th {\n",
       "        vertical-align: top;\n",
       "    }\n",
       "\n",
       "    .dataframe thead th {\n",
       "        text-align: right;\n",
       "    }\n",
       "</style>\n",
       "<table border=\"1\" class=\"dataframe\">\n",
       "  <thead>\n",
       "    <tr style=\"text-align: right;\">\n",
       "      <th></th>\n",
       "      <th>No of hrs played</th>\n",
       "      <th>No of hrs Study</th>\n",
       "      <th>Output feature(Pass/Fail)</th>\n",
       "    </tr>\n",
       "  </thead>\n",
       "  <tbody>\n",
       "    <tr>\n",
       "      <th>0</th>\n",
       "      <td>8</td>\n",
       "      <td>2</td>\n",
       "      <td>Fail</td>\n",
       "    </tr>\n",
       "    <tr>\n",
       "      <th>1</th>\n",
       "      <td>7</td>\n",
       "      <td>3</td>\n",
       "      <td>Fail</td>\n",
       "    </tr>\n",
       "    <tr>\n",
       "      <th>2</th>\n",
       "      <td>6</td>\n",
       "      <td>4</td>\n",
       "      <td>Fail</td>\n",
       "    </tr>\n",
       "    <tr>\n",
       "      <th>3</th>\n",
       "      <td>5</td>\n",
       "      <td>5</td>\n",
       "      <td>Pass</td>\n",
       "    </tr>\n",
       "    <tr>\n",
       "      <th>4</th>\n",
       "      <td>4</td>\n",
       "      <td>6</td>\n",
       "      <td>Pass</td>\n",
       "    </tr>\n",
       "    <tr>\n",
       "      <th>5</th>\n",
       "      <td>3</td>\n",
       "      <td>7</td>\n",
       "      <td>Pass</td>\n",
       "    </tr>\n",
       "  </tbody>\n",
       "</table>\n",
       "</div>"
      ],
      "text/plain": [
       "   No of hrs played  No of hrs Study Output feature(Pass/Fail)\n",
       "0                 8                2                      Fail\n",
       "1                 7                3                      Fail\n",
       "2                 6                4                      Fail\n",
       "3                 5                5                      Pass\n",
       "4                 4                6                      Pass\n",
       "5                 3                7                      Pass"
      ]
     },
     "execution_count": 3,
     "metadata": {},
     "output_type": "execute_result"
    }
   ],
   "source": [
    "import pandas as pd\n",
    "Df = pd.DataFrame({\n",
    "    'No of hrs played' : [8,7,6,5,4,3],\n",
    "    'No of hrs Study' :[2,3,4,5,6,7],\n",
    "    'Output feature(Pass/Fail)' : ['Fail' , 'Fail' , 'Fail' , 'Pass' , \"Pass\" , 'Pass']\n",
    "})\n",
    "Df"
   ]
  },
  {
   "cell_type": "markdown",
   "metadata": {},
   "source": [
    "2. Supervised M.L (regression) - Here the output is not in category it is totally random and depend on the input features we got\n",
    "\n",
    "For example : we have a data of size of house , No of rooms , and output feature Price of House"
   ]
  },
  {
   "cell_type": "code",
   "execution_count": 4,
   "metadata": {},
   "outputs": [
    {
     "data": {
      "text/html": [
       "<div>\n",
       "<style scoped>\n",
       "    .dataframe tbody tr th:only-of-type {\n",
       "        vertical-align: middle;\n",
       "    }\n",
       "\n",
       "    .dataframe tbody tr th {\n",
       "        vertical-align: top;\n",
       "    }\n",
       "\n",
       "    .dataframe thead th {\n",
       "        text-align: right;\n",
       "    }\n",
       "</style>\n",
       "<table border=\"1\" class=\"dataframe\">\n",
       "  <thead>\n",
       "    <tr style=\"text-align: right;\">\n",
       "      <th></th>\n",
       "      <th>Size of house</th>\n",
       "      <th>No of rooms</th>\n",
       "      <th>Price of house</th>\n",
       "    </tr>\n",
       "  </thead>\n",
       "  <tbody>\n",
       "    <tr>\n",
       "      <th>0</th>\n",
       "      <td>8</td>\n",
       "      <td>7</td>\n",
       "      <td>20000000</td>\n",
       "    </tr>\n",
       "    <tr>\n",
       "      <th>1</th>\n",
       "      <td>7</td>\n",
       "      <td>6</td>\n",
       "      <td>15000000</td>\n",
       "    </tr>\n",
       "    <tr>\n",
       "      <th>2</th>\n",
       "      <td>6</td>\n",
       "      <td>5</td>\n",
       "      <td>10000000</td>\n",
       "    </tr>\n",
       "    <tr>\n",
       "      <th>3</th>\n",
       "      <td>5</td>\n",
       "      <td>4</td>\n",
       "      <td>7500000</td>\n",
       "    </tr>\n",
       "    <tr>\n",
       "      <th>4</th>\n",
       "      <td>4</td>\n",
       "      <td>3</td>\n",
       "      <td>6000000</td>\n",
       "    </tr>\n",
       "    <tr>\n",
       "      <th>5</th>\n",
       "      <td>3</td>\n",
       "      <td>2</td>\n",
       "      <td>5000000</td>\n",
       "    </tr>\n",
       "  </tbody>\n",
       "</table>\n",
       "</div>"
      ],
      "text/plain": [
       "   Size of house  No of rooms  Price of house\n",
       "0              8            7        20000000\n",
       "1              7            6        15000000\n",
       "2              6            5        10000000\n",
       "3              5            4         7500000\n",
       "4              4            3         6000000\n",
       "5              3            2         5000000"
      ]
     },
     "execution_count": 4,
     "metadata": {},
     "output_type": "execute_result"
    }
   ],
   "source": [
    "import pandas as pd\n",
    "Df = pd.DataFrame({\n",
    "    'Size of house' : [8,7,6,5,4,3],\n",
    "    'No of rooms' :[7,6,5,4,3,2,],\n",
    "    'Price of house' : [20000000 , 15000000 , 10000000 , 7500000 , 6000000 , 5000000]\n",
    "})\n",
    "Df"
   ]
  },
  {
   "cell_type": "markdown",
   "metadata": {},
   "source": [
    "## Q3: What is unsupervised learning? List some examples of unsupervised learning."
   ]
  },
  {
   "cell_type": "markdown",
   "metadata": {},
   "source": [
    "* It is also the type of Machine Learning. In unsupervised learning we dont have an output we only have some input based on that inputs we have to clustered the data (i.e we collect the data and group it the way it is) .  The goal of unsupervised learning is to find the underlying structure of a dataset, group similar data points, or represent the dataset in a compressed format1.\n",
    "\n",
    "Here are some examples of unsupervised learning algorithms:\n",
    "\n",
    "1. K-means clustering: A popular algorithm that partitions data points into K clusters based on their similarity1.\n",
    "\n",
    "2. KNN (k-nearest neighbors): An algorithm that classifies data points based on the majority vote of their k nearest neighbors1.\n",
    "\n",
    "3. Hierarchical clustering: An algorithm that creates a hierarchy of clusters by recursively merging or splitting them based on their similarity1."
   ]
  },
  {
   "cell_type": "markdown",
   "metadata": {},
   "source": [
    "## Q4: What is the difference between AI , ML, DL, and DS?"
   ]
  },
  {
   "cell_type": "markdown",
   "metadata": {},
   "source": [
    "Certainly! Here's a brief explanation of the differences between **AI**, **ML**, **DL**, and **DS**:\n",
    "\n",
    "- **Artificial Intelligence (AI)**: AI is the broader concept that focuses on creating intelligent machines capable of performing tasks that typically require human intelligence. It involves simulating human cognitive abilities, such as learning, reasoning, problem-solving, perception, and language understanding¹. AI can be seen as the study of training machines to mimic human brain functions and thinking capabilities¹. It encompasses three major aspects: learning, reasoning, and self-correction¹.\n",
    "\n",
    "- **Machine Learning (ML)**: ML is a subset of AI that focuses on developing algorithms that can learn from data and improve their performance over time without being explicitly programmed¹. It enables machines to learn automatically from experience and make predictions or take actions based on patterns or examples in the data¹. ML algorithms make observations on data to identify possible patterns and make better future decisions¹.\n",
    "\n",
    "- **Deep Learning (DL)**: DL is a subfield of ML that uses artificial neural networks with multiple layers to learn and make predictions¹. It aims to mimic the behavior of the human brain by processing information through hierarchical layers of interconnected nodes (neurons)¹. DL algorithms excel in tasks such as image recognition, natural language processing, and speech recognition¹.\n",
    "\n",
    "- **Data Science (DS)**: DS is an interdisciplinary field that combines scientific methods, processes, algorithms, and systems to extract knowledge and insights from structured and unstructured data². It involves various techniques from statistics, mathematics, computer science, and domain knowledge to analyze and interpret complex data sets². DS encompasses data cleaning, preparation, analysis, visualization, and interpretation to derive meaningful insights and support decision-making processes².\n",
    "\n",
    "In summary, AI focuses on creating intelligent machines, ML enables machines to learn from data and improve performance, DL uses neural networks for learning and prediction, and DS involves extracting insights from data using scientific methods.\n",
    "\n"
   ]
  },
  {
   "cell_type": "markdown",
   "metadata": {},
   "source": [
    "## Q5: What are the main differences between between supervised , unsupervised and semi-supervised learning?"
   ]
  },
  {
   "cell_type": "markdown",
   "metadata": {},
   "source": [
    "- **Supervised learning** : It is a ype of Machine Learning which include input feature and output feature. In supervised learning we got 1 or more than one input features(This is also called independent feature) and based on input feature we get output feature either the utput is in category or depend on the output feature.Supervise learning is also of 2 types:\n",
    "\n",
    "1. Supervise M.L (Classification) - Here we got input feature and we got output feature. Output feature is in category like pass or fail , yes or no etc . \n",
    "\n",
    "2. Supervised M.L (regression) - Here the output is not in category it is totally random and depend on the input features we got\n",
    "\n",
    "- **Unsupervise Learning** : It is also the type of Machine Learning. In unsupervised learning we dont have an output we only have some input based on that inputs we have to clustered the data (i.e we collect the data and group it the way it is) .  The goal of unsupervised learning is to find the underlying structure of a dataset, group similar data points, or represent the dataset in a compressed format1.\n",
    "\n",
    "- **Semisupervised Learning** : This is the combination of supervised and unsupervised learning . The main feature of this learning is to train input feature to get output either output is categorical or random depends on the input then it cluster (group) the output like unsupervised learning\n",
    "\n",
    "In Summary, Supervised learning get output either in category or rando based on the input , Unsupervised learning doesnot get any output it collect the data and group it the way it is , Semisupervised learning can do both first it get output and the group the output"
   ]
  },
  {
   "cell_type": "markdown",
   "metadata": {},
   "source": [
    "## Q6: What is train, test and validation split? Explain the importance of each term."
   ]
  },
  {
   "cell_type": "markdown",
   "metadata": {},
   "source": [
    "Train, test, and validation split is a common practice in machine learning to evaluate the performance of a model. It involves dividing a dataset into three parts: training set, validation set, and test set1. The training set is used to train the model, the validation set is used to tune the model’s hyperparameters, and the test set is used to evaluate the model’s performance on unseen data1.\n",
    "\n",
    "The importance of each term is as follows:\n",
    "\n",
    "- **Training set** : The training set is used to train the model by feeding it with labeled data. The model learns from this data and adjusts its parameters to minimize the error between its predictions and the actual labels1. The larger the training set, the better the model can learn from it.\n",
    "\n",
    "- **Validation set** : The validation set is used to tune the model’s hyperparameters, such as learning rate, regularization, and number of hidden layers1. Hyperparameters are not learned from data but are set by the user before training. By evaluating the model’s performance on the validation set, we can adjust these hyperparameters to improve the model’s accuracy1. The validation set helps prevent overfitting by providing an estimate of how well the model will generalize to new data.\n",
    "\n",
    "- **Test set** : The test set is used to evaluate the performance of the final model on unseen data. It provides an unbiased estimate of how well the model will perform in real-world scenarios1. By evaluating the model on a separate test set, we can avoid overfitting and ensure that our model generalizes well."
   ]
  },
  {
   "cell_type": "markdown",
   "metadata": {},
   "source": [
    "## Q7: How can unsupervised learning be used in anomaly detection"
   ]
  },
  {
   "cell_type": "markdown",
   "metadata": {},
   "source": [
    "**Unsupervised learning** can be used in **anomaly detection** to identify normal patterns within a dataset and detect outliers based on the natural characteristics of the data². Anomaly detection is the process of identifying rare or unusual objects or events without any prior knowledge about them⁴.\n",
    "\n",
    "In unsupervised anomaly detection, the algorithm does not require any labeled training data. It assumes that only a small percentage of the data is anomalous and that any anomaly is statistically different from the normal samples³. Unsupervised anomaly detection algorithms aim to find patterns or structures in the data that deviate significantly from the norm³.\n",
    "\n",
    "Here are a few examples of how unsupervised learning can be used in anomaly detection:\n",
    "\n",
    "1. **Credit card fraud detection**: Unsupervised learning algorithms can be used to detect fraudulent credit card transactions by identifying patterns that deviate from normal spending behavior¹.\n",
    "2. **Network intrusion detection**: Anomaly detection techniques can be applied to network traffic data to identify unusual patterns that may indicate a cyber attack or intrusion².\n",
    "3. **Manufacturing quality control**: Unsupervised learning algorithms can analyze sensor data from manufacturing processes to detect anomalies that may indicate faulty products or equipment².\n",
    "4. **Healthcare monitoring**: Anomaly detection can be used to identify abnormal patient conditions or detect potential diseases based on medical sensor data².\n",
    "\n"
   ]
  },
  {
   "cell_type": "markdown",
   "metadata": {},
   "source": [
    "## Q8: List down some commonly used supervised learning algorithms and unsupervised learning algorithms."
   ]
  },
  {
   "cell_type": "markdown",
   "metadata": {},
   "source": [
    "Here are some commonly used **supervised learning algorithms**:\n",
    "\n",
    "1. **Linear Regression**: A regression algorithm that models the relationship between a dependent variable and one or more independent variables⁵.\n",
    "2. **Logistic Regression**: A classification algorithm that predicts the probability of an event occurring⁵.\n",
    "3. **Decision Trees**: A classification algorithm that creates a tree-like model of decisions and their possible consequences⁵.\n",
    "4. **Random Forests**: An ensemble learning method that combines multiple decision trees to improve accuracy and reduce overfitting⁵.\n",
    "5. **Support Vector Machines (SVM)**: A classification algorithm that finds the best hyperplane to separate data points into different classes⁵.\n",
    "\n",
    "Here are some commonly used **unsupervised learning algorithms**:\n",
    "\n",
    "1. **K-means Clustering**: A clustering algorithm that partitions data points into K clusters based on their similarity⁹.\n",
    "2. **Hierarchical Clustering**: A clustering algorithm that creates a hierarchy of clusters by recursively merging or splitting them based on their similarity⁹.\n",
    "3. **Anomaly Detection**: An algorithm that identifies rare or unusual patterns or outliers in a dataset⁹.\n",
    "4. **Principal Component Analysis (PCA)**: A technique used to reduce the dimensionality of a dataset while preserving its important features⁹.\n",
    "5. **Apriori Algorithm**: An algorithm used for association rule mining in transactional databases or datasets⁹.\n",
    "\n"
   ]
  },
  {
   "cell_type": "markdown",
   "metadata": {},
   "source": []
  }
 ],
 "metadata": {
  "kernelspec": {
   "display_name": "Python 3",
   "language": "python",
   "name": "python3"
  },
  "language_info": {
   "codemirror_mode": {
    "name": "ipython",
    "version": 3
   },
   "file_extension": ".py",
   "mimetype": "text/x-python",
   "name": "python",
   "nbconvert_exporter": "python",
   "pygments_lexer": "ipython3",
   "version": "3.11.5"
  },
  "orig_nbformat": 4
 },
 "nbformat": 4,
 "nbformat_minor": 2
}
