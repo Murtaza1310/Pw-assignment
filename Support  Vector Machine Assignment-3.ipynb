{
 "cells": [
  {
   "cell_type": "markdown",
   "metadata": {},
   "source": [
    "# Q1. In order to predict house price based on several characteristics, such as location, square footage, number of bedrooms, etc., you are developing an SVM regression model. Which regression metric in this situation would be the best to employ?"
   ]
  },
  {
   "cell_type": "markdown",
   "metadata": {},
   "source": [
    "To evaluate the performance of an SVM regression model, **mean squared error (MSE)**, **root mean squared error (RMSE)**, and **mean absolute error (MAE)** are commonly used regression metrics ¹. \n",
    "\n",
    "MSE is the average of the squared differences between the predicted and actual values. It is a popular metric because it penalizes large errors more than small ones, making it more sensitive to outliers ¹. RMSE is the square root of MSE and is useful for interpreting the error in the same units as the target variable ¹. MAE is the average of the absolute differences between the predicted and actual values. It is less sensitive to outliers than MSE and RMSE ¹.\n",
    "\n",
    "In this case, since we are developing an SVM regression model to predict house prices based on several characteristics, I would recommend using **RMSE** as the regression metric. This is because RMSE is useful for interpreting the error in the same units as the target variable, which in this case is the price of the house ¹. \n"
   ]
  },
  {
   "cell_type": "markdown",
   "metadata": {},
   "source": [
    "# Q2. You have built an SVM regression model and are trying to decide between using MSE or R-squared as your evaluation metric. Which metric would be more appropriate if your goal is to predict the actual price of a house as accurately as possible?"
   ]
  },
  {
   "cell_type": "markdown",
   "metadata": {},
   "source": [
    "If your goal is to predict the actual price of a house as accurately as possible, **MSE** would be the more appropriate evaluation metric to use for your SVM regression model ¹³. \n",
    "\n",
    "MSE measures the average squared difference between the predicted and actual values. It is a popular metric because it penalizes large errors more than small ones, making it more sensitive to outliers ¹. In the context of predicting house prices, MSE would be a good metric to use because it would help you identify how far off your predictions are from the actual prices ¹. \n",
    "\n",
    "On the other hand, **R-squared** measures the proportion of variance in the dependent variable that is explained by the independent variables in the model ². While R-squared is a useful metric for understanding how well the independent variables in your model explain the variation in the dependent variable, it does not directly measure the accuracy of your predictions ². Therefore, MSE would be a better choice for evaluating the accuracy of your SVM regression model in predicting house prices."
   ]
  },
  {
   "cell_type": "markdown",
   "metadata": {},
   "source": [
    "# Q3. You have a dataset with a significant number of outliers and are trying to select an appropriate regression metric to use with your SVM model. Which metric would be the most appropriate in this scenario?"
   ]
  },
  {
   "cell_type": "markdown",
   "metadata": {},
   "source": [
    "When dealing with a dataset that has a significant number of outliers, it is important to use a regression metric that is robust to outliers. **Mean absolute error (MAE)** is a more robust metric than **mean squared error (MSE)** in the presence of outliers ¹². \n",
    "\n",
    "MSE measures the average squared difference between the predicted and actual values. It is a popular metric because it penalizes large errors more than small ones, making it more sensitive to outliers ¹. On the other hand, MAE measures the average absolute difference between the predicted and actual values. It is less sensitive to outliers than MSE and is a more robust metric to use when dealing with datasets that have a significant number of outliers ¹².\n",
    "\n",
    "Therefore, I would recommend using **MAE** as the regression metric for your SVM model when dealing with a dataset that has a significant number of outliers."
   ]
  },
  {
   "cell_type": "markdown",
   "metadata": {},
   "source": [
    "# Q4. You have built an SVM regression model using a polynomial kernel and are trying to select the best metric to evaluate its performance. You have calculated both MSE and RMSE and found that both values are very close. Which metric should you choose to use in this case?"
   ]
  },
  {
   "cell_type": "markdown",
   "metadata": {},
   "source": [
    "When evaluating the performance of an SVM regression model that uses a polynomial kernel, if both **MSE** and **RMSE** values are very close, either metric can be used to evaluate the model's performance ¹². \n",
    "\n",
    "MSE measures the average squared difference between the predicted and actual values. It is a popular metric because it penalizes large errors more than small ones, making it more sensitive to outliers ¹. RMSE is the square root of MSE and is useful for interpreting the error in the same units as the target variable ¹. \n",
    "\n",
    "In your case, since both MSE and RMSE values are very close, you can choose either metric to evaluate the performance of your SVM regression model. However, if you want to interpret the error in the same units as the target variable, you should use **RMSE** ¹."
   ]
  },
  {
   "cell_type": "markdown",
   "metadata": {},
   "source": [
    "# Q5. You are comparing the performance of different SVM regression models using different kernels (linear, polynomial, and RBF) and are trying to select the best evaluation metric. Which metric would be most appropriate if your goal is to measure how well the model explains the variance in the target variable?"
   ]
  },
  {
   "cell_type": "markdown",
   "metadata": {},
   "source": [
    "When comparing the performance of different SVM regression models using different kernels (linear, polynomial, and RBF), if your goal is to measure how well the model explains the variance in the target variable, **R-squared** would be the most appropriate evaluation metric to use ⁴. \n",
    "\n",
    "R-squared measures the proportion of variance in the dependent variable that is explained by the independent variables in the model ¹. It is a useful metric for understanding how well the independent variables in your model explain the variation in the dependent variable ¹. A higher R-squared value indicates that the model is better at explaining the variance in the target variable ¹. \n",
    "\n",
    "Therefore, I would recommend using **R-squared** as the evaluation metric when comparing the performance of different SVM regression models using different kernels."
   ]
  },
  {
   "cell_type": "markdown",
   "metadata": {},
   "source": []
  }
 ],
 "metadata": {
  "kernelspec": {
   "display_name": "Python 3",
   "language": "python",
   "name": "python3"
  },
  "language_info": {
   "codemirror_mode": {
    "name": "ipython",
    "version": 3
   },
   "file_extension": ".py",
   "mimetype": "text/x-python",
   "name": "python",
   "nbconvert_exporter": "python",
   "pygments_lexer": "ipython3",
   "version": "3.11.5"
  }
 },
 "nbformat": 4,
 "nbformat_minor": 2
}
