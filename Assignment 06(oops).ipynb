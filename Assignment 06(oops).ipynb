{
 "cells": [
  {
   "cell_type": "markdown",
   "metadata": {},
   "source": [
    "Q1. Explain Class and Object with respect to Object-Oriented Programming. Give a suitable example."
   ]
  },
  {
   "cell_type": "markdown",
   "metadata": {},
   "source": [
    "* In object-oriented programming, a class is a blueprint or a template for creating objects. It defines the attributes (data) and behaviors (methods) that objects of that class will have. A class provides a way to encapsulate related data and functionality into a single entity.\n",
    "\n",
    "* An object, on the other hand, is an instance of a class. It is a concrete representation of the class, created based on the class definition. Objects have their own unique set of attributes and can perform actions defined by the class's methods."
   ]
  },
  {
   "cell_type": "code",
   "execution_count": 1,
   "metadata": {},
   "outputs": [
    {
     "name": "stdout",
     "output_type": "stream",
     "text": [
      "The 'Blue' colored 'Hayabusa' bike has started its engine.\n"
     ]
    }
   ],
   "source": [
    "# Here's an example:\n",
    "\n",
    "# Class definition\n",
    "class Bike:\n",
    "    def __init__(self, brand, color):\n",
    "        self.brand = brand\n",
    "        self.color = color\n",
    "\n",
    "    def start_engine(self):\n",
    "        print(f\"The '{self.color}' colored '{self.brand}' bike has started its engine.\")\n",
    "\n",
    "# Creating a object\n",
    "bike = Bike(\"Hayabusa\", \"Blue\")\n",
    "\n",
    "# Accessing object attributes and calling object method\n",
    "bike.start_engine()"
   ]
  },
  {
   "cell_type": "markdown",
   "metadata": {},
   "source": [
    "Q2. Name the four pillars of OOPs."
   ]
  },
  {
   "cell_type": "markdown",
   "metadata": {},
   "source": [
    "* The four pillars of OOPs are:\n",
    "\n",
    "1.Polymorphism\n",
    "\n",
    "2.Encapsulation\n",
    "\n",
    "3.Inheritance\n",
    "\n",
    "4.Abstraction"
   ]
  },
  {
   "cell_type": "markdown",
   "metadata": {},
   "source": [
    "Q3. Explain why the __ init __() function is used. Give a suitable example."
   ]
  },
  {
   "cell_type": "markdown",
   "metadata": {},
   "source": [
    "* The __ init __() function is a special method in Python classes that is automatically called when an object is created from the class. It is commonly used to initialize the attributes or properties of the object.\n",
    "\n",
    "* The main purpose of the init() method is to set up the initial state of an object by assigning values to its attributes. It allows you to provide default values or accept arguments that can be used to initialize the object's attributes during instantiation. This ensures that the object starts with the desired initial values."
   ]
  },
  {
   "cell_type": "code",
   "execution_count": 2,
   "metadata": {},
   "outputs": [
    {
     "name": "stdout",
     "output_type": "stream",
     "text": [
      "The student name is :Murtaza , and Email is : murtuja3149G@gmail.com\n"
     ]
    }
   ],
   "source": [
    "# Creating class using __init__\n",
    "\n",
    "class student_details:\n",
    "    def __init__(self , Name , Email):\n",
    "        self.Name = Name\n",
    "        self.Email = Email\n",
    "\n",
    "    def show_details(self):\n",
    "        print(f'The student name is :{self.Name} , and Email is : {self.Email}')\n",
    "\n",
    "# creating object\n",
    "\n",
    "student = student_details ('Murtaza' , 'murtuja3149G@gmail.com')\n",
    "\n",
    "# Print the details\n",
    "\n",
    "student.show_details()"
   ]
  },
  {
   "cell_type": "markdown",
   "metadata": {},
   "source": [
    "Q4. Why self is used in OOPs?"
   ]
  },
  {
   "cell_type": "markdown",
   "metadata": {},
   "source": [
    "* In object-oriented programming (OOP), self is a conventionally used parameter name that refers to the instance of a class. It is a reference to the current object being operated on or accessed within the class.In object-oriented programming (OOP), self is a conventionally used parameter name that refers to the instance of a class. It is a reference to the current object being operated on or accessed within the class.\n",
    "* The purpose of self is to allow access to the attributes and methods of an object within its own class. By using self, you can differentiate between the instance variables (attributes) of the current object and variables with the same name in the broader scope.\n",
    "* When a method is called on an object, self is automatically passed as the first parameter. This allows you to access and manipulate the object's attributes and methods within that method. It acts as a reference to the object itself."
   ]
  },
  {
   "cell_type": "markdown",
   "metadata": {},
   "source": [
    "Q5. What is inheritance? Give an example for each type of inheritance."
   ]
  },
  {
   "cell_type": "markdown",
   "metadata": {},
   "source": [
    "* Inheritance is a fundamental concept in object-oriented programming (OOP) that allows classes to inherit properties and behaviors from other classes. It enables code reuse and promotes a hierarchical organization of classes.\n",
    "* In object-oriented programming, there are several types of inheritance that define the relationships between classes. Here are some common types of inheritance:"
   ]
  },
  {
   "cell_type": "code",
   "execution_count": 3,
   "metadata": {},
   "outputs": [
    {
     "name": "stdout",
     "output_type": "stream",
     "text": [
      "This is the details of person1\n"
     ]
    }
   ],
   "source": [
    "# 1. Single Inheritance: A class inherits properties and methods from a single base class.\n",
    "# Example:\n",
    "\n",
    "class Person :\n",
    "    def details(self):\n",
    "        print(\"This is the details of person1\")\n",
    "\n",
    "class child(Person) :\n",
    "    pass\n",
    "\n",
    "person = child()\n",
    "person.details()"
   ]
  },
  {
   "cell_type": "code",
   "execution_count": 4,
   "metadata": {},
   "outputs": [
    {
     "name": "stdout",
     "output_type": "stream",
     "text": [
      "This is the method for class1\n",
      "This is the method for class2\n",
      "This is the method for class3\n"
     ]
    }
   ],
   "source": [
    "# 2. Muliple Inheritance:  A class can inherit properties and methods from multiple base classes.\n",
    "# Example:\n",
    "\n",
    "class class1:\n",
    "    def test_class1(self):\n",
    "        print(\"This is the method for class1\")\n",
    "\n",
    "class class2:\n",
    "    def test_class2(self):\n",
    "        print(\"This is the method for class2\")\n",
    "\n",
    "class class3:\n",
    "    def test_class3(self):\n",
    "        print(\"This is the method for class3\")\n",
    "\n",
    "class class4(class1, class2, class3):\n",
    "    pass\n",
    "\n",
    "class_obj = class4()\n",
    "\n",
    "class_obj.test_class1()\n",
    "class_obj.test_class2()\n",
    "class_obj.test_class3()"
   ]
  },
  {
   "cell_type": "code",
   "execution_count": 5,
   "metadata": {},
   "outputs": [
    {
     "name": "stdout",
     "output_type": "stream",
     "text": [
      "This is Set 1 questions.\n",
      "This is Set 2 questions.\n",
      "This is Set 1 questions.\n",
      "This is Set 3 questions.\n"
     ]
    }
   ],
   "source": [
    "# 3. Hierarchical Inheritance: Multiple derived classes inherit from a single base class.\n",
    "# Example:\n",
    "\n",
    "class QueSet1:\n",
    "    def set1(self):\n",
    "        print(\"This is Set 1 questions.\")\n",
    "\n",
    "class QueSet2(QueSet1):\n",
    "    def set2(self):\n",
    "        print(\"This is Set 2 questions.\")\n",
    "\n",
    "class QueSet3(QueSet1):\n",
    "    def set3(self):\n",
    "        print(\"This is Set 3 questions.\")\n",
    "\n",
    "sets1 = QueSet2()\n",
    "\n",
    "sets1.set1()\n",
    "sets1.set2()\n",
    "\n",
    "sets2 = QueSet3()\n",
    "\n",
    "sets2.set1()\n",
    "sets2.set3()"
   ]
  },
  {
   "cell_type": "code",
   "execution_count": 6,
   "metadata": {},
   "outputs": [
    {
     "name": "stdout",
     "output_type": "stream",
     "text": [
      "Eating.\n",
      "Walking.\n",
      "Barking.\n"
     ]
    }
   ],
   "source": [
    " # 4. Multilevel Inheritance: Classes are derived from one another in a hierarchical order, creating a chain of inheritance.\n",
    "# Example:\n",
    "\n",
    "class Animal:\n",
    "    def eat(self):\n",
    "        print(\"Eating.\")\n",
    "\n",
    "class Mammal(Animal):\n",
    "    def walk(self):\n",
    "        print(\"Walking.\")\n",
    "\n",
    "class Dog(Mammal):\n",
    "    def bark(self):\n",
    "        print(\"Barking.\")\n",
    "\n",
    "my_dog = Dog()\n",
    "\n",
    "my_dog.eat()\n",
    "my_dog.walk()\n",
    "my_dog.bark()"
   ]
  },
  {
   "cell_type": "code",
   "execution_count": null,
   "metadata": {},
   "outputs": [],
   "source": []
  }
 ],
 "metadata": {
  "kernelspec": {
   "display_name": "Python 3",
   "language": "python",
   "name": "python3"
  },
  "language_info": {
   "codemirror_mode": {
    "name": "ipython",
    "version": 3
   },
   "file_extension": ".py",
   "mimetype": "text/x-python",
   "name": "python",
   "nbconvert_exporter": "python",
   "pygments_lexer": "ipython3",
   "version": "3.11.4"
  },
  "orig_nbformat": 4
 },
 "nbformat": 4,
 "nbformat_minor": 2
}
