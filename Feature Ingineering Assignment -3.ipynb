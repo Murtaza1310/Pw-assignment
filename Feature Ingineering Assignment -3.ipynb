{
 "cells": [
  {
   "cell_type": "markdown",
   "metadata": {},
   "source": [
    "## Q1. What is data encoding? How is it useful in data science?"
   ]
  },
  {
   "cell_type": "markdown",
   "metadata": {},
   "source": [
    "**Data encoding** is a technique which used in machine learning , while we got a data containing the lots input feature , to train it we need only numerical data but some of them available in strategic or in words to solve this we used data encodig to change the strategic into the numeric value so we can train our module and then test it because computer only understand numerical value\n",
    "\n",
    "It is useful in data science , It is clear to the name data science that we have to wored on data and in data all datas are not similar some are in numerics some are in strategic or words some are missing . So to solve this data encoding is vesry useful in data science "
   ]
  },
  {
   "cell_type": "markdown",
   "metadata": {},
   "source": [
    "## Q2. What is nominal encoding? Provide an example of how you would use it in a real-world scenario."
   ]
  },
  {
   "cell_type": "markdown",
   "metadata": {},
   "source": [
    "**Nominal encoding** is a technique used to encode categorical features that do not have an inherent order, such as colors or names. It creates a new binary feature for each category ¹. \n",
    "\n",
    "For example, suppose we have a dataset of customer reviews for a restaurant. One of the features in the dataset is the type of cuisine, which includes categories such as Italian, Chinese, Mexican, and Indian. We can use nominal encoding to convert this categorical feature into numerical values that can be used by machine learning algorithms. \n",
    "\n",
    "To do this, we create a new binary feature for each category. For instance, we can create four new binary features: **is_italian**, **is_chinese**, **is_mexican**, and **is_indian**. If a particular review is about Italian cuisine, then the value of **is_italian** will be 1 and the values of all other binary features will be 0. Similarly, if a review is about Chinese cuisine, then the value of **is_chinese** will be 1 and the values of all other binary features will be 0 ¹.\n",
    "\n",
    "Nominal encoding is useful in scenarios where we have categorical data that does not have an inherent order. It allows us to convert these categorical variables into numerical values that can be used by machine learning algorithms ¹. "
   ]
  },
  {
   "cell_type": "markdown",
   "metadata": {},
   "source": [
    "## Q3. In what situations is nominal encoding preferred over one-hot encoding? Provide a practical example."
   ]
  },
  {
   "cell_type": "markdown",
   "metadata": {},
   "source": [
    "In most scenarios, **one-hot encoding** is the preferred way to convert a categorical variable into a numerical variable because **nominal encoding** makes it seem that there is a ranking between values ¹. \n",
    "\n",
    "For example, suppose we have a dataset of customer reviews for a restaurant. One of the features in the dataset is the type of cuisine, which includes categories such as Italian, Chinese, Mexican, and Indian. We can use **nominal encoding** to convert this categorical feature into numerical values that can be used by machine learning algorithms. \n",
    "\n",
    "To do this, we create a new binary feature for each category. For instance, we can create four new binary features: **is_italian**, **is_chinese**, **is_mexican**, and **is_indian**. If a particular review is about Italian cuisine, then the value of **is_italian** will be 1 and the values of all other binary features will be 0. Similarly, if a review is about Chinese cuisine, then the value of **is_chinese** will be 1 and the values of all other binary features will be 0 ¹.\n",
    "\n",
    "However, there are some scenarios where nominal encoding may be preferred over one-hot encoding. For instance, if we have a categorical feature with many categories (say more than 50), then one-hot encoding would result in a large number of new features. This can lead to the **curse of dimensionality**, where the number of features becomes too large relative to the number of observations in the dataset ¹. In such cases, nominal encoding can be used as an alternative to one-hot encoding ¹."
   ]
  },
  {
   "cell_type": "markdown",
   "metadata": {},
   "source": [
    "## Q4. Suppose you have a dataset containing categorical data with 5 unique values. Which encoding technique would you use to transform this data into a format suitable for machine learning algorithms? Explain why you made this choice."
   ]
  },
  {
   "cell_type": "markdown",
   "metadata": {},
   "source": [
    "If we have a dataset containing categorical data with 5 unique values, we can use **one-hot encoding** to transform this data into a format suitable for machine learning algorithms ²⁵. \n",
    "\n",
    "One-hot encoding is a technique used to convert categorical variables into numerical variables. It creates a new binary feature for each category in the original variable. For example, suppose we have a categorical variable called \"fruit\" with five unique values: apple, banana, orange, pear, and kiwi. We can use one-hot encoding to create five new binary features: **is_apple**, **is_banana**, **is_orange**, **is_pear**, and **is_kiwi**. If a particular observation is about apples, then the value of **is_apple** will be 1 and the values of all other binary features will be 0 ²⁵.\n",
    "\n",
    "One-hot encoding is preferred over other encoding techniques when the number of unique values in the categorical variable is small (less than 10) ². In this case, one-hot encoding will create only a few new features and will not lead to the curse of dimensionality ².\n"
   ]
  },
  {
   "cell_type": "markdown",
   "metadata": {},
   "source": [
    "## Q5. In a machine learning project, you have a dataset with 1000 rows and 5 columns. Two of the columns are categorical, and the remaining three columns are numerical. If you were to use nominal encoding to transform the categorical data, how many new columns would be created? Show your calculations."
   ]
  },
  {
   "cell_type": "markdown",
   "metadata": {},
   "source": [
    "If we were to use nominal encoding to transform the categorical data, we would create a new binary feature for each category in the original variable ¹. \n",
    "\n",
    "Since we have two categorical columns, we would create two new binary features for each category in each column. If column 1 has **n** categories and column 2 has **m** categories, then the total number of new columns created would be **2(n + m)** ¹. \n",
    "\n",
    "In this case, we have 5 columns, of which 2 are categorical and 3 are numerical. Let's assume that column 1 has 3 categories and column 2 has 2 categories. Therefore, the total number of new columns created would be **2(3 + 2) = 10** ¹.\n"
   ]
  },
  {
   "cell_type": "markdown",
   "metadata": {},
   "source": [
    "## Q6. You are working with a dataset containing information about different types of animals, including their species, habitat, and diet. Which encoding technique would you use to transform the categorical data into a format suitable for machine learning algorithms? Justify your answer."
   ]
  },
  {
   "cell_type": "markdown",
   "metadata": {},
   "source": [
    "If we have a dataset containing categorical data, we can use **one-hot encoding** to transform this data into a format suitable for machine learning algorithms ⁷ [^10^]. \n",
    "\n",
    "One-hot encoding is a technique used to convert categorical variables into numerical variables. It creates a new binary feature for each category in the original variable. For example, suppose we have a categorical variable called \"species\" with five unique values: lion, tiger, elephant, giraffe, and zebra. We can use one-hot encoding to create five new binary features: **is_lion**, **is_tiger**, **is_elephant**, **is_giraffe**, and **is_zebra**. If a particular observation is about lions, then the value of **is_lion** will be 1 and the values of all other binary features will be 0 ⁷ [^10^].\n",
    "\n",
    "One-hot encoding is preferred over other encoding techniques when the number of unique values in the categorical variable is small (less than 10) ⁷. In this case, one-hot encoding will create only a few new features and will not lead to the curse of dimensionality ⁷."
   ]
  },
  {
   "cell_type": "markdown",
   "metadata": {},
   "source": [
    "## Q7.You are working on a project that involves predicting customer churn for a telecommunications company. You have a dataset with 5 features, including the customer's gender, age, contract type, monthly charges, and tenure. Which encoding technique(s) would you use to transform the categorical data into numerical data? Provide a step-by-step explanation of how you would implement the encoding."
   ]
  },
  {
   "cell_type": "markdown",
   "metadata": {},
   "source": [
    "To transform the categorical data into numerical data, we can use **one-hot encoding** ¹⁵. \n",
    "\n",
    "One-hot encoding is a technique used to convert categorical variables into numerical variables. It creates a new binary feature for each category in the original variable. For example, suppose we have a categorical variable called \"gender\" with two unique values: male and female. We can use one-hot encoding to create two new binary features: **is_male** and **is_female**. If a particular observation is about a male customer, then the value of **is_male** will be 1 and the value of **is_female** will be 0 ¹⁵.\n",
    "\n",
    "To implement one-hot encoding in Python, we can use the `get_dummies()` function from the pandas library. Here are the steps:\n",
    "\n",
    "1. Import the pandas library.\n",
    "2. Load the dataset into a pandas dataframe.\n",
    "3. Use the `get_dummies()` function to perform one-hot encoding on the categorical columns.\n",
    "4. Concatenate the one-hot encoded columns with the numerical columns.\n",
    "\n",
    "Here's an example code snippet:\n",
    "\n",
    "```python\n",
    "import pandas as pd\n",
    "\n",
    "# Load the dataset into a pandas dataframe\n",
    "df = pd.read_csv('dataset.csv')\n",
    "\n",
    "# Perform one-hot encoding on the categorical columns\n",
    "df_encoded = pd.get_dummies(df, columns=['gender', 'contract_type'])\n",
    "\n",
    "# Concatenate the one-hot encoded columns with the numerical columns\n",
    "df_final = pd.concat([df_encoded, df[['age', 'monthly_charges', 'tenure']]], axis=1)\n",
    "```\n"
   ]
  },
  {
   "cell_type": "markdown",
   "metadata": {},
   "source": []
  }
 ],
 "metadata": {
  "language_info": {
   "name": "python"
  },
  "orig_nbformat": 4
 },
 "nbformat": 4,
 "nbformat_minor": 2
}
