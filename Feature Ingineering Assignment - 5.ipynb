{
 "cells": [
  {
   "cell_type": "markdown",
   "metadata": {},
   "source": [
    "## Q1. Pearson correlation coefficient is a measure of the linear relationship between two variables. Suppose you have collected data on the amount of time students spend studying for an exam and their final exam scores. Calculate the Pearson correlation coefficient between these two variables and interpret the result."
   ]
  },
  {
   "cell_type": "markdown",
   "metadata": {},
   "source": [
    "The Pearson correlation coefficient (r) is a measure of the strength and direction of the linear relationship between two variables. It is a number between -1 and 1, where -1 indicates a perfect negative correlation, 0 indicates no correlation, and 1 indicates a perfect positive correlation ¹.\n",
    "\n",
    "To calculate the Pearson correlation coefficient between the amount of time students spend studying for an exam and their final exam scores, we need a dataset with values for each variable. Once we have the dataset, we can use the following formula to calculate the Pearson correlation coefficient:\n",
    "\n",
    "```\n",
    "r = (n * Σ(xy) - Σx * Σy) / sqrt((n * Σ(x^2) - (Σx)^2) * (n * Σ(y^2) - (Σy)^2))\n",
    "```\n",
    "\n",
    "where `x` is the amount of time spent studying for an exam, `y` is the final exam score, `n` is the number of observations, `Σ` represents summation over all observations, and `xy`, `x^2`, and `y^2` are the products of `x` and `y`, `x` squared, and `y` squared respectively.\n",
    "\n",
    "Interpreting the Pearson correlation coefficient can be difficult, as it is not always clear what a high or low correlation means. However, we can make some general observations:\n",
    "\n",
    "- A positive correlation between two variables indicates that they tend to increase or decrease together.\n",
    "- A negative correlation between two variables indicates that one variable tends to increase while the other decreases.\n",
    "- A correlation of zero indicates that there is no linear relationship between the two variables."
   ]
  },
  {
   "cell_type": "markdown",
   "metadata": {},
   "source": [
    "## Q2. Spearman's rank correlation is a measure of the monotonic relationship between two variables. Suppose you have collected data on the amount of sleep individuals get each night and their overall job satisfaction level on a scale of 1 to 10. Calculate the Spearman's rank correlation between these two variables and interpret the result."
   ]
  },
  {
   "cell_type": "markdown",
   "metadata": {},
   "source": [
    "The Spearman's rank correlation coefficient (ρ) is a non-parametric measure of the strength and direction of the monotonic relationship between two variables. It is a number between -1 and 1, where -1 indicates a perfect negative correlation, 0 indicates no correlation, and 1 indicates a perfect positive correlation ¹.\n",
    "\n",
    "To calculate the Spearman's rank correlation coefficient between the amount of sleep individuals get each night and their overall job satisfaction level, we need a dataset with values for each variable. Once we have the dataset, we can use the following formula to calculate the Spearman's rank correlation coefficient:\n",
    "\n",
    "```\n",
    "ρ = 1 - (6 * Σd^2) / (n * (n^2 - 1))\n",
    "```\n",
    "\n",
    "where `d` is the difference between the ranks of each pair of data, `n` is the number of observations, and `Σ` represents summation over all observations.\n",
    "\n",
    "Interpreting the Spearman's rank correlation coefficient can be difficult, as it is not always clear what a high or low correlation means. However, we can make some general observations:\n",
    "\n",
    "- A positive correlation between two variables indicates that they tend to increase or decrease together.\n",
    "- A negative correlation between two variables indicates that one variable tends to increase while the other decreases.\n",
    "- A correlation of zero indicates that there is no monotonic relationship between the two variables.\n",
    "\n",
    "Without knowing the dataset, it is impossible to calculate the Spearman's rank correlation coefficient. However, if we assume that there is a monotonic relationship between the amount of sleep individuals get each night and their overall job satisfaction level, we can use the following steps to calculate the Spearman's rank correlation coefficient:\n",
    "\n",
    "1. Rank each set of data.\n",
    "2. Calculate the difference between the ranks of each pair of data.\n",
    "3. Sum up these squared differences.\n",
    "4. Insert these values into the Spearman's Rank Correlation Coefficient formula."
   ]
  },
  {
   "cell_type": "markdown",
   "metadata": {},
   "source": [
    "## Q3. Suppose you are conducting a study to examine the relationship between the number of hours of exercise per week and body mass index (BMI) in a sample of adults. You collected data on both variables for 50 participants. Calculate the Pearson correlation coefficient and the Spearman's rank correlation between these two variables and compare the results."
   ]
  },
  {
   "cell_type": "markdown",
   "metadata": {},
   "source": [
    "To calculate the Pearson correlation coefficient and the Spearman's rank correlation between the number of hours of exercise per week and body mass index (BMI) in a sample of adults, we need a dataset with values for each variable. Once we have the dataset, we can use the following formulas to calculate the Pearson correlation coefficient and the Spearman's rank correlation:\n",
    "\n",
    "```\n",
    "Pearson correlation coefficient (r) = Σ((x - x̄) * (y - ȳ)) / sqrt(Σ(x - x̄)^2 * Σ(y - ȳ)^2)\n",
    "\n",
    "Spearman's rank correlation coefficient (ρ) = 1 - (6 * Σd^2) / (n * (n^2 - 1))\n",
    "```\n",
    "\n",
    "where `x` is the number of hours of exercise per week, `y` is the body mass index (BMI), `n` is the number of observations, `Σ` represents summation over all observations, `x̄` and `ȳ` are the means of `x` and `y`, and `d` is the difference between the ranks of each pair of data.\n",
    "\n",
    "Interpreting the Pearson correlation coefficient and the Spearman's rank correlation can be difficult, as it is not always clear what a high or low correlation means. However, we can make some general observations:\n",
    "\n",
    "- A positive correlation between two variables indicates that they tend to increase or decrease together.\n",
    "- A negative correlation between two variables indicates that one variable tends to increase while the other decreases.\n",
    "- A correlation of zero indicates that there is no linear relationship between the two variables.\n",
    "\n",
    "Without knowing the dataset, it is impossible to calculate the Pearson correlation coefficient and the Spearman's rank correlation. However, if we assume that there is a linear relationship between the number of hours of exercise per week and body mass index (BMI), we can use the following steps to calculate these coefficients:\n",
    "\n",
    "1. Calculate the mean of each variable.\n",
    "2. Calculate the difference between each observation and its respective mean for both variables.\n",
    "3. Square each difference for both variables.\n",
    "4. Sum up these squared differences for both variables.\n",
    "5. Calculate the square root of each sum of squared differences for both variables.\n",
    "6. Calculate Σ((x - x̄) * (y - ȳ)) for both variables.\n",
    "7. Divide Σ((x - x̄) * (y - ȳ)) by sqrt(Σ(x - x̄)^2 * Σ(y - ȳ)^2) to get r.\n",
    "8. Rank each set of data.\n",
    "9. Calculate d for each pair of data.\n",
    "10. Square each d.\n",
    "11. Sum up these squared d values.\n",
    "12. Insert these values into Spearman's Rank Correlation formula to get ρ."
   ]
  },
  {
   "cell_type": "markdown",
   "metadata": {},
   "source": [
    "## Q4. A researcher is interested in examining the relationship between the number of hours individuals spend watching television per day and their level of physical activity. The researcher collected data on both variables from a sample of 50 participants. Calculate the Pearson correlation coefficient between these two variables."
   ]
  },
  {
   "cell_type": "markdown",
   "metadata": {},
   "source": [
    "To calculate the Pearson correlation coefficient between the number of hours individuals spend watching television per day and their level of physical activity, we need a dataset with values for each variable. Once we have the dataset, we can use the following formula to calculate the Pearson correlation coefficient:\n",
    "\n",
    "```\n",
    "r = Σ((x - x̄) * (y - ȳ)) / sqrt(Σ(x - x̄)^2 * Σ(y - ȳ)^2)\n",
    "```\n",
    "\n",
    "where `x` is the number of hours individuals spend watching television per day, `y` is their level of physical activity, `x̄` and `ȳ` are the means of `x` and `y`, and `Σ` represents summation over all observations.\n",
    "\n",
    "Without knowing the dataset, it is impossible to calculate the Pearson correlation coefficient. However, if we assume that there is a linear relationship between the number of hours individuals spend watching television per day and their level of physical activity, we can use the following steps to calculate this coefficient:\n",
    "\n",
    "1. Calculate the mean of each variable.\n",
    "2. Calculate the difference between each observation and its respective mean for both variables.\n",
    "3. Square each difference for both variables.\n",
    "4. Sum up these squared differences for both variables.\n",
    "5. Calculate the square root of each sum of squared differences for both variables.\n",
    "6. Calculate Σ((x - x̄) * (y - ȳ)).\n",
    "7. Divide Σ((x - x̄) * (y - ȳ)) by sqrt(Σ(x - x̄)^2 * Σ(y - ȳ)^2) to get r."
   ]
  },
  {
   "cell_type": "markdown",
   "metadata": {},
   "source": [
    "## Q5. A survey was conducted to examine the relationship between age and preference for a particular brand of soft drink. The survey results are shown below:\n",
    "\n",
    "* Age(Years)\n",
    "25 Coke\n",
    "42 Pepsi\n",
    "37\n",
    "19\n",
    "31\n",
    "28\n",
    "\n",
    "* Mountain dew\n",
    "Coke\n",
    "Pepsi\n",
    "Coke\n",
    "Soft drink Preference"
   ]
  },
  {
   "cell_type": "markdown",
   "metadata": {},
   "source": [
    "The survey results show that the following preferences were recorded:\n",
    "\n",
    "- 25-year-old preferred Coke\n",
    "- 42-year-old preferred Pepsi\n",
    "- 37-year-old did not provide a preference\n",
    "- 19-year-old did not provide a preference\n",
    "- 31-year-old did not provide a preference\n",
    "- 28-year-old preferred Mountain Dew\n",
    "\n",
    "It is difficult to draw any conclusions from such a small sample size. However, we can say that among the respondents who provided a preference, Coke was preferred by two individuals, Pepsi was preferred by one individual, and Mountain Dew was preferred by one individual."
   ]
  },
  {
   "cell_type": "markdown",
   "metadata": {},
   "source": [
    "## Q6. A company is interested in examining the relationship between the number of sales calls made per day and the number of sales made per week. The company collected data on both variables from a sample of 30 sales representatives. Calculate the Pearson correlation coefficient between these two variables."
   ]
  },
  {
   "cell_type": "markdown",
   "metadata": {},
   "source": [
    "To calculate the Pearson correlation coefficient between the number of sales calls made per day and the number of sales made per week, we need a dataset with values for each variable. Once we have the dataset, we can use the following formula to calculate the Pearson correlation coefficient:\n",
    "\n",
    "```\n",
    "r = Σ((x - x̄) * (y - ȳ)) / sqrt(Σ(x - x̄)^2 * Σ(y - ȳ)^2)\n",
    "```\n",
    "\n",
    "where `x` is the number of sales calls made per day, `y` is the number of sales made per week, `x̄` and `ȳ` are the means of `x` and `y`, and `Σ` represents summation over all observations.\n",
    "\n",
    "Without knowing the dataset, it is impossible to calculate the Pearson correlation coefficient. However, if we assume that there is a linear relationship between the number of sales calls made per day and the number of sales made per week, we can use the following steps to calculate this coefficient:\n",
    "\n",
    "1. Calculate the mean of each variable.\n",
    "2. Calculate the difference between each observation and its respective mean for both variables.\n",
    "3. Square each difference for both variables.\n",
    "4. Sum up these squared differences for both variables.\n",
    "5. Calculate the square root of each sum of squared differences for both variables.\n",
    "6. Calculate Σ((x - x̄) * (y - ȳ)).\n",
    "7. Divide Σ((x - x̄) * (y - ȳ)) by sqrt(Σ(x - x̄)^2 * Σ(y - ȳ)^2) to get r."
   ]
  },
  {
   "cell_type": "markdown",
   "metadata": {},
   "source": []
  }
 ],
 "metadata": {
  "language_info": {
   "name": "python"
  },
  "orig_nbformat": 4
 },
 "nbformat": 4,
 "nbformat_minor": 2
}
